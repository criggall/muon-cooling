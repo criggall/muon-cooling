{
 "cells": [
  {
   "cell_type": "code",
   "execution_count": 14,
   "metadata": {},
   "outputs": [],
   "source": [
    "# Import libraries:\n",
    "import numpy as np\n",
    "\n",
    "# Set directory:\n",
    "dir = \"/Users/criggall/Library/Mobile Documents/com~apple~CloudDocs/muon-cooling/Yuri-David-File/\"\n",
    "\n",
    "# Mass of muon:\n",
    "mmu = 105.65837 #MeV/c^2"
   ]
  },
  {
   "cell_type": "code",
   "execution_count": null,
   "metadata": {},
   "outputs": [],
   "source": [
    "# Read values at detectors:\n",
    "x_vals = []; y_vals = []; z_vals = []\n",
    "px_vals = []; py_vals = []; pz_vals = []\n",
    "t_vals = []; position = []\n",
    "for j in range(31):\n",
    "\n",
    "    # Load data from output txt files:\n",
    "    data = np.loadtxt(dir+'out'+str(j+1)+'.txt')\n",
    "\n",
    "    # Values for each detector:\n",
    "    x = []; y = []; z = []\n",
    "    px = []; py = []; pz = []\n",
    "    ptotal = []\n",
    "    t = []\n",
    "    for i in range(data.shape[0]):\n",
    "        px_val = data[i][3]; py_val = data[i][4]; pz_val = data[i][5]\n",
    "        ptotal_val = np.sqrt(px_val**2+py_val**2+pz_val**2)\n",
    "        # Apply p total cut (accept within range 150 to 400):\n",
    "        if 150 < ptotal_val < 400:\n",
    "            x.append(data[i][0]*0.1) # mm -> cm\n",
    "            y.append(data[i][1]*0.1)\n",
    "            z.append(data[i][2]*0.1)\n",
    "            px.append(px_val) # MeV/c\n",
    "            py.append(py_val)\n",
    "            pz.append(pz_val)\n",
    "            ptotal.append(ptotal_val)\n",
    "            t.append(data[i][6]) # ns\n",
    "\n",
    "    # Values for entire channel:\n",
    "    x_vals.append(x)\n",
    "    y_vals.append(y)\n",
    "    z_vals.append(z)\n",
    "    px_vals.append(px)\n",
    "    py_vals.append(py)\n",
    "    pz_vals.append(pz)\n",
    "    t_vals.append(t)\n",
    "    position.append(z[0]/100) # cm -> m"
   ]
  },
  {
   "cell_type": "code",
   "execution_count": null,
   "metadata": {},
   "outputs": [],
   "source": [
    "# Definitions for emittance calculation:\n",
    "\n",
    "S6 = np.array([np.array([0, 1, 0, 0, 0, 0]), np.array([-1, 0, 0, 0, 0, 0]), np.array([0, 0, 0, 1, 0, 0]), np.array([0, \n",
    "  0, -1, 0, 0, 0]), np.array([0, 0, 0, 0, 0, 1]), np.array([0, 0, 0, 0, -1, 0])])\n",
    "\n",
    "p0 = 250 # try 200?\n",
    "\n",
    "kp = 3/p0 # for mu+\n",
    "# kp = -kp for mu-\n",
    "\n",
    "gamma0 = np.sqrt(1+(p0/mmu)**2)\n",
    "beta0 = p0/mmu/gamma0\n",
    "\n",
    "v0 = 29.97925*beta0 #cm/ns\n",
    "\n",
    "Bz0 = 2 # try 2.35?\n"
   ]
  },
  {
   "cell_type": "code",
   "execution_count": 22,
   "metadata": {},
   "outputs": [
    {
     "name": "stdout",
     "output_type": "stream",
     "text": [
      "2.5687558713007923\n",
      "0.9211137605533817\n"
     ]
    }
   ],
   "source": [
    "print(gamma0) # should be 2.56876\n",
    "print(beta0) # should be 0.921114"
   ]
  },
  {
   "cell_type": "code",
   "execution_count": null,
   "metadata": {},
   "outputs": [],
   "source": []
  }
 ],
 "metadata": {
  "kernelspec": {
   "display_name": "Python 3",
   "language": "python",
   "name": "python3"
  },
  "language_info": {
   "codemirror_mode": {
    "name": "ipython",
    "version": 3
   },
   "file_extension": ".py",
   "mimetype": "text/x-python",
   "name": "python",
   "nbconvert_exporter": "python",
   "pygments_lexer": "ipython3",
   "version": "3.9.6"
  }
 },
 "nbformat": 4,
 "nbformat_minor": 2
}
